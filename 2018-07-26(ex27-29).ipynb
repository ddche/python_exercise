{
 "cells": [
  {
   "cell_type": "code",
   "execution_count": 2,
   "metadata": {},
   "outputs": [
    {
     "name": "stdout",
     "output_type": "stream",
     "text": [
      "True\n",
      "False\n",
      "False\n",
      "True\n",
      "True\n",
      "True\n",
      "False\n",
      "True\n",
      "False\n",
      "False\n",
      "True\n",
      "False\n",
      "True\n",
      "False\n",
      "False\n",
      "False\n",
      "True\n",
      "True\n",
      "False\n",
      "False\n"
     ]
    }
   ],
   "source": [
    "# exercise 28\n",
    "print(True and True)\n",
    "print(False and True)\n",
    "print(1 == 1 and 2 == 1)\n",
    "print(\"test\" == \"test\")\n",
    "print(1 == 1 or 2 != 1)\n",
    "print(True and 1 == 1)\n",
    "print(False and 0 != 0)\n",
    "print(True or 1 == 1)\n",
    "print(\"test\" == \"testing\")\n",
    "print(1 != 0 and 2 == 1)\n",
    "print(\"test\" != \"testing\")\n",
    "print(\"test\" == 1)\n",
    "print(not (True and False))\n",
    "print(not (1 == 1 and 0 != 1))\n",
    "print(not (10 == 1 or 1000 == 1000))\n",
    "print(not (1 != 10 or 3 == 4))\n",
    "print(not (\"testing\" == \"testing\" and \"Zed\" == \"Cool Guy\"))\n",
    "print(1 == 1 and (not (\"testing\" == 1 or 1 == 0)))\n",
    "print(\"chunky\" == \"bacon\" and (not (3 == 4 or 3 == 3)))\n",
    "print(3 == 3 and (not (\"testing\" == \"testing\" or \"Python\" == \"Fun\")))"
   ]
  },
  {
   "cell_type": "code",
   "execution_count": 4,
   "metadata": {},
   "outputs": [
    {
     "name": "stdout",
     "output_type": "stream",
     "text": [
      "too many cats, the world is doomed!\n",
      "the world is dry!\n",
      "People are greater than or equal to dogs.\n",
      "People are less than or equal to dogs.\n",
      "People are dogs.\n"
     ]
    }
   ],
   "source": [
    "# exercise 29\n",
    "people = 20\n",
    "cats = 30\n",
    "dogs = 15\n",
    "\n",
    "if people < cats:\n",
    "    print(\"too many cats, the world is doomed!\")\n",
    "if people > cats:\n",
    "    print(\"not many cats, the world is saved!\")\n",
    "if people < dogs:\n",
    "    print(\"the world is drooled on!\")\n",
    "if people > dogs:\n",
    "    print(\"the world is dry!\")\n",
    "\n",
    "dogs += 5\n",
    "if people >= dogs:\n",
    "    print(\"People are greater than or equal to dogs.\")\n",
    "\n",
    "if people <= dogs:\n",
    "    print(\"People are less than or equal to dogs.\")\n",
    "\n",
    "if people == dogs:\n",
    "    print(\"People are dogs.\")"
   ]
  },
  {
   "cell_type": "code",
   "execution_count": null,
   "metadata": {},
   "outputs": [],
   "source": []
  }
 ],
 "metadata": {
  "kernelspec": {
   "display_name": "Python 3",
   "language": "python",
   "name": "python3"
  },
  "language_info": {
   "codemirror_mode": {
    "name": "ipython",
    "version": 3
   },
   "file_extension": ".py",
   "mimetype": "text/x-python",
   "name": "python",
   "nbconvert_exporter": "python",
   "pygments_lexer": "ipython3",
   "version": "3.5.2"
  }
 },
 "nbformat": 4,
 "nbformat_minor": 2
}
