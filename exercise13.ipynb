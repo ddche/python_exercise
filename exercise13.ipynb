{
 "cells": [
  {
   "cell_type": "code",
   "execution_count": 1,
   "metadata": {},
   "outputs": [
    {
     "name": "stdout",
     "output_type": "stream",
     "text": [
      "name?cdd\n"
     ]
    }
   ],
   "source": [
    "# exercise 12\n",
    "y = input('name?')"
   ]
  },
  {
   "cell_type": "code",
   "execution_count": 2,
   "metadata": {},
   "outputs": [
    {
     "name": "stdout",
     "output_type": "stream",
     "text": [
      "cdd\n"
     ]
    }
   ],
   "source": [
    "print(y)"
   ]
  },
  {
   "cell_type": "code",
   "execution_count": 3,
   "metadata": {},
   "outputs": [
    {
     "name": "stdout",
     "output_type": "stream",
     "text": [
      "how old are yopu?24\n"
     ]
    }
   ],
   "source": [
    "age = input('how old are yopu?')"
   ]
  },
  {
   "cell_type": "code",
   "execution_count": 4,
   "metadata": {},
   "outputs": [
    {
     "name": "stdout",
     "output_type": "stream",
     "text": [
      "how old are you?24\n",
      "how much do you weight?52\n",
      "how tall are you?159\n",
      "you are 24 years old,52kg heavy and 159cm tall\n"
     ]
    }
   ],
   "source": [
    "age = input('how old are you?')\n",
    "weight = input('how much do you weight?')\n",
    "height = input('how tall are you?')\n",
    "print('you are {} years old,{}kg heavy and {}cm tall'.format(age,weight,height))"
   ]
  },
  {
   "cell_type": "code",
   "execution_count": 5,
   "metadata": {},
   "outputs": [
    {
     "name": "stdout",
     "output_type": "stream",
     "text": [
      "which province are you from?山西\n",
      "which city are you from?吕梁\n",
      "you are from 吕梁 city in 山西 province\n"
     ]
    }
   ],
   "source": [
    "province = input('which province are you from?')\n",
    "city = input('which city are you from?')\n",
    "print('you are from {} city in {} province'.format(city,province))"
   ]
  },
  {
   "cell_type": "code",
   "execution_count": 14,
   "metadata": {},
   "outputs": [
    {
     "name": "stdout",
     "output_type": "stream",
     "text": [
      "the script is called: d:\\anacode\\lib\\site-packages\\ipykernel_launcher.py\n",
      "your first variable is: -f\n",
      "your second variable is: C:\\Users\\Administrator\\AppData\\Roaming\\jupyter\\runtime\\kernel-a3dc4d26-ccb8-42f5-b10a-893d0ee9c715.json\n"
     ]
    }
   ],
   "source": [
    "# exercisse 13\n",
    "from sys import argv\n",
    "apple,orange,pink =argv\n",
    "print('the script is called:',apple)\n",
    "print('your first variable is:',orange)\n",
    "print('your second variable is:',pink)\n",
    "# print('your third variable is:',third)"
   ]
  },
  {
   "cell_type": "code",
   "execution_count": 16,
   "metadata": {},
   "outputs": [
    {
     "name": "stdout",
     "output_type": "stream",
     "text": [
      "The script is called: d:\\anacode\\lib\\site-packages\\ipykernel_launcher.py\n",
      "Your first variable is: -f\n",
      "Your second variable is: C:\\Users\\Administrator\\AppData\\Roaming\\jupyter\\runtime\\kernel-a3dc4d26-ccb8-42f5-b10a-893d0ee9c715.json\n"
     ]
    }
   ],
   "source": [
    "from sys import argv\n",
    "# read the WYSS section for how to run this\n",
    "script, first, second = argv\n",
    "\n",
    "print(\"The script is called:\", script)\n",
    "print(\"Your first variable is:\", first)\n",
    "print(\"Your second variable is:\", second)\n",
    "# print(\"Your third variable is:\", third)"
   ]
  },
  {
   "cell_type": "code",
   "execution_count": 15,
   "metadata": {},
   "outputs": [
    {
     "name": "stdout",
     "output_type": "stream",
     "text": [
      "the script is called: d:\\anacode\\lib\\site-packages\\ipykernel_launcher.py\n",
      "your first variable is: -f\n",
      "your second variable is: C:\\Users\\Administrator\\AppData\\Roaming\\jupyter\\runtime\\kernel-a3dc4d26-ccb8-42f5-b10a-893d0ee9c715.json\n"
     ]
    }
   ],
   "source": [
    "# exercisse 13\n",
    "from sys import argv\n",
    "apple,orange,pink =argv\n",
    "print('the script is called:',apple)\n",
    "print('your first variable is:',orange)\n",
    "print('your second variable is:',pink)\n",
    "# print('your third variable is:',third)"
   ]
  },
  {
   "cell_type": "code",
   "execution_count": null,
   "metadata": {},
   "outputs": [],
   "source": []
  }
 ],
 "metadata": {
  "kernelspec": {
   "display_name": "Python 3",
   "language": "python",
   "name": "python3"
  },
  "language_info": {
   "codemirror_mode": {
    "name": "ipython",
    "version": 3
   },
   "file_extension": ".py",
   "mimetype": "text/x-python",
   "name": "python",
   "nbconvert_exporter": "python",
   "pygments_lexer": "ipython3",
   "version": "3.6.4"
  }
 },
 "nbformat": 4,
 "nbformat_minor": 2
}
