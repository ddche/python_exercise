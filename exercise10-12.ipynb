{
 "cells": [
  {
   "cell_type": "code",
   "execution_count": 10,
   "metadata": {},
   "outputs": [
    {
     "name": "stdout",
     "output_type": "stream",
     "text": [
      "\ti'm ok.\n",
      "i'm split\n",
      "on aline.\n",
      "i'm \\ a \\cat.\n",
      "\n",
      "i'll do a list.\n",
      "\t* cat food.\n",
      "\t* fat \n",
      "fat.\n",
      "\t* love you \\yep\thappy\n",
      "\n",
      "\n",
      "'we\n",
      "\"you\n",
      "\bisotope\n",
      "\u0000\n",
      "\r",
      "reagent\n",
      "\u000b",
      "fuzzy\n",
      "\n"
     ]
    }
   ],
   "source": [
    "# exercise 10\n",
    "# \\t 横向制表符\n",
    "# \\\\ 输出\\\n",
    "print(\"\\ti'm ok.\")\n",
    "print(\"i'm split\\non aline.\")\n",
    "print(\"i'm \\\\ a \\\\cat.\")\n",
    "print('''\n",
    "i'll do a list.\n",
    "\\t* cat food.\n",
    "\\t* fat \\nfat.\n",
    "\\t* love you \\\\yep\\thappy\n",
    "''')\n",
    "print('''\n",
    "\\'we\n",
    "\\\"you\n",
    "\\bisotope\n",
    "\\000\n",
    "\\rreagent\n",
    "\\vfuzzy\n",
    "''')"
   ]
  },
  {
   "cell_type": "code",
   "execution_count": 11,
   "metadata": {},
   "outputs": [
    {
     "ename": "AttributeError",
     "evalue": "'str' object has no attribute 'end'",
     "output_type": "error",
     "traceback": [
      "\u001b[1;31m---------------------------------------------------------------------------\u001b[0m",
      "\u001b[1;31mAttributeError\u001b[0m                            Traceback (most recent call last)",
      "\u001b[1;32m<ipython-input-11-160a4623a3fa>\u001b[0m in \u001b[0;36m<module>\u001b[1;34m()\u001b[0m\n\u001b[0;32m      1\u001b[0m \u001b[1;31m# exercise 11\u001b[0m\u001b[1;33m\u001b[0m\u001b[1;33m\u001b[0m\u001b[0m\n\u001b[0;32m      2\u001b[0m \u001b[1;31m# end=' ' 同行连接\u001b[0m\u001b[1;33m\u001b[0m\u001b[1;33m\u001b[0m\u001b[0m\n\u001b[1;32m----> 3\u001b[1;33m \u001b[0mprint\u001b[0m\u001b[1;33m(\u001b[0m\u001b[1;34m'how old are you?'\u001b[0m\u001b[1;33m.\u001b[0m\u001b[0mend\u001b[0m\u001b[1;33m(\u001b[0m \u001b[1;33m)\u001b[0m\u001b[1;33m)\u001b[0m\u001b[1;33m\u001b[0m\u001b[0m\n\u001b[0m\u001b[0;32m      4\u001b[0m \u001b[0mage\u001b[0m \u001b[1;33m=\u001b[0m \u001b[0minput\u001b[0m\u001b[1;33m(\u001b[0m\u001b[1;33m)\u001b[0m\u001b[1;33m\u001b[0m\u001b[0m\n\u001b[0;32m      5\u001b[0m \u001b[0mprint\u001b[0m\u001b[1;33m(\u001b[0m\u001b[1;34m'how tall are you?'\u001b[0m\u001b[1;33m.\u001b[0m\u001b[0mend\u001b[0m\u001b[1;33m(\u001b[0m \u001b[1;33m)\u001b[0m\u001b[1;33m)\u001b[0m\u001b[1;33m\u001b[0m\u001b[0m\n",
      "\u001b[1;31mAttributeError\u001b[0m: 'str' object has no attribute 'end'"
     ]
    }
   ],
   "source": [
    "# exercise 11(error)\n",
    "# end=' ' 同行连接\n",
    "print('how old are you?'.end( ))\n",
    "age = input()\n",
    "print('how tall are you?'.end( ))\n",
    "height = input()\n",
    "print('how much do you weigh?'.end())\n",
    "weight = input()\n",
    "print(\"you are {} years old, {}tall and {}heavy\".format(age,height,weight))"
   ]
  },
  {
   "cell_type": "code",
   "execution_count": 15,
   "metadata": {},
   "outputs": [
    {
     "name": "stdout",
     "output_type": "stream",
     "text": [
      "how old are you? 24\n",
      "how tall are you? 159\n",
      "how much do you weigh? 52\n",
      "you are 24 years old, 159tall and 52heavy\n"
     ]
    }
   ],
   "source": [
    "# exercise 11\n",
    "# end=' ' 同行连接\n",
    "print('how old are you?',end =' ')\n",
    "age = input()\n",
    "print('how tall are you?',end =' ')\n",
    "height = input()\n",
    "print('how much do you weigh?',end =' ')\n",
    "weight = input()\n",
    "print(\"you are {} years old, {}tall and {}heavy\".format(age,height,weight))"
   ]
  },
  {
   "cell_type": "code",
   "execution_count": 16,
   "metadata": {},
   "outputs": [
    {
     "name": "stdout",
     "output_type": "stream",
     "text": [
      "Which province are you from? 山西\n",
      "What city are you from? 吕梁\n",
      "You are girl or boy? girl\n",
      "You are a girl,who lived in 吕梁 city of 山西 province.\n"
     ]
    }
   ],
   "source": [
    "print('Which province are you from?',end =' ')\n",
    "province = input()\n",
    "print('What city are you from?',end =' ')\n",
    "city = input()\n",
    "print('You are girl or boy?',end =' ')\n",
    "gender = input()\n",
    "print(\"You are a {},who lived in {} city of {} province.\".format(gender,city,province))"
   ]
  },
  {
   "cell_type": "code",
   "execution_count": 17,
   "metadata": {},
   "outputs": [
    {
     "name": "stdout",
     "output_type": "stream",
     "text": [
      "filename: c:\\users\\lenovo\\appdata\\local\\programs\\python\\python35\\lib\\site-packages\\ipykernel_launcher.py\n",
      "param1: -f\n",
      "param2: C:\\Users\\lenovo\\AppData\\Roaming\\jupyter\\runtime\\kernel-64999268-3f69-44bc-be1b-a5913c9d1d56.json\n"
     ]
    }
   ],
   "source": [
    "# exercise 12\n",
    "import sys\n",
    "a=sys.argv[0]\n",
    "b=sys.argv[1]\n",
    "c=sys.argv[2]\n",
    "print(\"filename:\",a)\n",
    "print(\"param1:\",b)\n",
    "print(\"param2:\",c)\n",
    "\n",
    "# 输出：\n",
    "# ('filename:', 'a.py')\n",
    "# ('param1:', 'zhang')\n",
    "# ('param2:', 'kang')"
   ]
  },
  {
   "cell_type": "code",
   "execution_count": null,
   "metadata": {},
   "outputs": [],
   "source": []
  }
 ],
 "metadata": {
  "kernelspec": {
   "display_name": "Python 3",
   "language": "python",
   "name": "python3"
  },
  "language_info": {
   "codemirror_mode": {
    "name": "ipython",
    "version": 3
   },
   "file_extension": ".py",
   "mimetype": "text/x-python",
   "name": "python",
   "nbconvert_exporter": "python",
   "pygments_lexer": "ipython3",
   "version": "3.5.2"
  }
 },
 "nbformat": 4,
 "nbformat_minor": 2
}
