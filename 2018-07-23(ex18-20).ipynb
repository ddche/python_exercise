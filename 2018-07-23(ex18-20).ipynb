{
 "cells": [
  {
   "cell_type": "code",
   "execution_count": 6,
   "metadata": {},
   "outputs": [
    {
     "name": "stdout",
     "output_type": "stream",
     "text": [
      "arg1:scarcity, arg2:paucity\n",
      "arg1:scarcity, arg2:paucity\n",
      "arg1:dearth\n",
      "i got nothing.\n"
     ]
    }
   ],
   "source": [
    "# exercise 18\n",
    "def print_two(*args):\n",
    "    arg1,arg2 = args\n",
    "    print(\"arg1:{}, arg2:{}\".format(arg1,arg2))\n",
    "# the function just can replace args\n",
    "def print_two_again(arg1,arg2):\n",
    "    print(\"arg1:{}, arg2:{}\".format(arg1,arg2))\n",
    "\n",
    "def print_one(arg1):\n",
    "    print(\"arg1:{}\".format(arg1))\n",
    "\n",
    "def print_none():\n",
    "    print(\"i got nothing.\")\n",
    "\n",
    "print_two(\"scarcity\",\"paucity\")\n",
    "print_two_again(\"scarcity\",\"paucity\")\n",
    "print_one(\"dearth\")\n",
    "print_none()\n"
   ]
  },
  {
   "cell_type": "code",
   "execution_count": 9,
   "metadata": {},
   "outputs": [
    {
     "name": "stdout",
     "output_type": "stream",
     "text": [
      "we can just give the parameter directly:\n",
      "you have 20 cheeses!\n",
      "you have 30 boxes of crackers!\n",
      "that's enought for a party!\n",
      "get a blanket.\n",
      "\n"
     ]
    }
   ],
   "source": [
    "# exercise 19\n",
    "def cheese_and_crackers(cheese_count,boxes_of_crackers):\n",
    "    print(\"you have {} cheeses!\".format(cheese_count))\n",
    "    print(\"you have {} boxes of crackers!\".format(boxes_of_crackers))\n",
    "    print(\"that's enought for a party!\")\n",
    "    print(\"get a blanket.\\n\")\n",
    "\n",
    "print(\"we can just give the parameter directly:\")\n",
    "cheese_and_crackers(20,30)"
   ]
  },
  {
   "cell_type": "code",
   "execution_count": 12,
   "metadata": {},
   "outputs": [
    {
     "name": "stdout",
     "output_type": "stream",
     "text": [
      "first let's print the whole file\n",
      "poverty scarcity dearth paucity\n",
      "purism surrealism baroque\n",
      "commodity privatize deprivation\n",
      "cheese\n",
      "cracker\n",
      "crackers\n",
      "make useful stuff\n",
      "\n",
      "now let's rewind, kind of like a type.\n",
      "let's print three lines:\n",
      "1 poverty scarcity dearth paucity\n",
      "\n",
      "2 purism surrealism baroque\n",
      "\n",
      "3 commodity privatize deprivation\n",
      "\n"
     ]
    }
   ],
   "source": [
    "# exercise 20\n",
    "def print_all(f):\n",
    "    print(f.read())\n",
    "def rewind(f):\n",
    "    f.seek(0)\n",
    "def print_a_line(line_count,f):\n",
    "    print(line_count,f.readline())\n",
    "current_file = open(\"cdd1.txt\")\n",
    "print(\"first let's print the whole file\")\n",
    "print_all(current_file)\n",
    "print(\"now let's rewind, kind of like a type.\")\n",
    "rewind(current_file)\n",
    "print(\"let's print three lines:\")\n",
    "current_line = 1\n",
    "print_a_line(current_line,current_file)\n",
    "current_line += 1\n",
    "print_a_line(current_line,current_file)\n",
    "current_line += 1\n",
    "print_a_line(current_line,current_file)"
   ]
  },
  {
   "cell_type": "code",
   "execution_count": null,
   "metadata": {},
   "outputs": [],
   "source": []
  }
 ],
 "metadata": {
  "kernelspec": {
   "display_name": "Python 3",
   "language": "python",
   "name": "python3"
  },
  "language_info": {
   "codemirror_mode": {
    "name": "ipython",
    "version": 3
   },
   "file_extension": ".py",
   "mimetype": "text/x-python",
   "name": "python",
   "nbconvert_exporter": "python",
   "pygments_lexer": "ipython3",
   "version": "3.5.2"
  }
 },
 "nbformat": 4,
 "nbformat_minor": 2
}
