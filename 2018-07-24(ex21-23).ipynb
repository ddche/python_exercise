{
 "cells": [
  {
   "cell_type": "code",
   "execution_count": 1,
   "metadata": {},
   "outputs": [
    {
     "name": "stdout",
     "output_type": "stream",
     "text": [
      "let's do some math with just functions!\n",
      "adding 20 + 4\n",
      "subtracting 170 - 11\n",
      "multiply 2 * 52\n",
      "divide 100 / 2\n",
      "age: 24, height: 159,weight: 104,iq: 50.0\n",
      "here is puzzle\n",
      "divide 50.0 / 2\n",
      "multiply 104 * 25.0\n",
      "subtracting 159 - 2600.0\n",
      "adding 24 + -2441.0\n",
      "that becomes:  -2417.0 can you do it by hand?\n"
     ]
    }
   ],
   "source": [
    "# exercise 21\n",
    "def add(a, b):\n",
    "    print(\"adding {} + {}\".format(a,b))\n",
    "    return a + b\n",
    "def subtract(a, b):\n",
    "    print(\"subtracting {} - {}\".format(a,b))\n",
    "    return a - b\n",
    "def multiply(a, b):\n",
    "    print(\"multiply {} * {}\".format(a, b))\n",
    "    return a * b\n",
    "def divide(a, b):\n",
    "    print(\"divide {} / {}\".format(a,b))\n",
    "    return a / b\n",
    "print(\"let's do some math with just functions!\")\n",
    "\n",
    "age = add(20,4)\n",
    "height = subtract(170,11)\n",
    "weight = multiply(2,52)\n",
    "iq = divide(100,2)\n",
    "print(\"age: {}, height: {},weight: {},iq: {}\".format(age,height,weight,iq))\n",
    "\n",
    "print(\"here is puzzle\")\n",
    "what = add(age,subtract(height,multiply(weight,divide(iq,2))))\n",
    "print(\"that becomes: \", what,\"can you do it by hand?\")"
   ]
  },
  {
   "cell_type": "code",
   "execution_count": 28,
   "metadata": {},
   "outputs": [
    {
     "name": "stdout",
     "output_type": "stream",
     "text": [
      "b'Afrikaans' <===> Afrikaans\n",
      "b'\\xe1\\x8a\\xa0\\xe1\\x88\\x9b\\xe1\\x88\\xad\\xe1\\x8a\\x9b' <===> አማርኛ\n",
      "b'\\xd0\\x90\\xd2\\xa7\\xd1\\x81\\xd1\\x88\\xd3\\x99\\xd0\\xb0' <===> Аҧсшәа\n",
      "b'\\xd8\\xa7\\xd9\\x84\\xd8\\xb9\\xd8\\xb1\\xd8\\xa8\\xd9\\x8a\\xd8\\xa9' <===> العربية\n",
      "b'Aragon\\xc3\\xa9s' <===> Aragonés\n",
      "b'Arpetan' <===> Arpetan\n",
      "b'Az\\xc9\\x99rbaycanca' <===> Azərbaycanca\n",
      "b'Bamanankan' <===> Bamanankan\n",
      "b'\\xe0\\xa6\\xac\\xe0\\xa6\\xbe\\xe0\\xa6\\x82\\xe0\\xa6\\xb2\\xe0\\xa6\\xbe' <===> বাংলা\n",
      "b'B\\xc3\\xa2n-l\\xc3\\xa2m-g\\xc3\\xba' <===> Bân-lâm-gú\n",
      "b'\\xd0\\x91\\xd0\\xb5\\xd0\\xbb\\xd0\\xb0\\xd1\\x80\\xd1\\x83\\xd1\\x81\\xd0\\xba\\xd0\\xb0\\xd1\\x8f' <===> Беларуская\n",
      "b'\\xd0\\x91\\xd1\\x8a\\xd0\\xbb\\xd0\\xb3\\xd0\\xb0\\xd1\\x80\\xd1\\x81\\xd0\\xba\\xd0\\xb8' <===> Български\n",
      "b'Boarisch' <===> Boarisch\n",
      "b'Bosanski' <===> Bosanski\n",
      "b'\\xd0\\x91\\xd1\\x83\\xd1\\x80\\xd1\\x8f\\xd0\\xb0\\xd0\\xb4' <===> Буряад\n",
      "b'Catal\\xc3\\xa0' <===> Català\n",
      "b'\\xd0\\xa7\\xd3\\x91\\xd0\\xb2\\xd0\\xb0\\xd1\\x88\\xd0\\xbb\\xd0\\xb0' <===> Чӑвашла\n",
      "b'\\xc4\\x8ce\\xc5\\xa1tina' <===> Čeština\n",
      "b'Cymraeg' <===> Cymraeg\n",
      "b'Dansk' <===> Dansk\n",
      "b'Deutsch' <===> Deutsch\n",
      "b'Eesti' <===> Eesti\n",
      "b'\\xce\\x95\\xce\\xbb\\xce\\xbb\\xce\\xb7\\xce\\xbd\\xce\\xb9\\xce\\xba\\xce\\xac' <===> Ελληνικά\n",
      "b'Espa\\xc3\\xb1ol' <===> Español\n",
      "b'Esperanto' <===> Esperanto\n",
      "b'\\xd9\\x81\\xd8\\xa7\\xd8\\xb1\\xd8\\xb3\\xdb\\x8c' <===> فارسی\n",
      "b'Fran\\xc3\\xa7ais' <===> Français\n",
      "b'Frysk' <===> Frysk\n",
      "b'Gaelg' <===> Gaelg\n",
      "b'G\\xc3\\xa0idhlig' <===> Gàidhlig\n",
      "b'Galego' <===> Galego\n",
      "b'\\xed\\x95\\x9c\\xea\\xb5\\xad\\xec\\x96\\xb4' <===> 한국어\n",
      "b'\\xd5\\x80\\xd5\\xa1\\xd5\\xb5\\xd5\\xa5\\xd6\\x80\\xd5\\xa5\\xd5\\xb6' <===> Հայերեն\n",
      "b'\\xe0\\xa4\\xb9\\xe0\\xa4\\xbf\\xe0\\xa4\\xa8\\xe0\\xa5\\x8d\\xe0\\xa4\\xa6\\xe0\\xa5\\x80' <===> हिन्दी\n",
      "b'Hrvatski' <===> Hrvatski\n",
      "b'Ido' <===> Ido\n",
      "b'Interlingua' <===> Interlingua\n",
      "b'Italiano' <===> Italiano\n",
      "b'\\xd7\\xa2\\xd7\\x91\\xd7\\xa8\\xd7\\x99\\xd7\\xaa' <===> עברית\n",
      "b'\\xe0\\xb2\\x95\\xe0\\xb2\\xa8\\xe0\\xb3\\x8d\\xe0\\xb2\\xa8\\xe0\\xb2\\xa1' <===> ಕನ್ನಡ\n",
      "b'Kapampangan' <===> Kapampangan\n",
      "b'\\xe1\\x83\\xa5\\xe1\\x83\\x90\\xe1\\x83\\xa0\\xe1\\x83\\x97\\xe1\\x83\\xa3\\xe1\\x83\\x9a\\xe1\\x83\\x98' <===> ქართული\n",
      "b'\\xd2\\x9a\\xd0\\xb0\\xd0\\xb7\\xd0\\xb0\\xd2\\x9b\\xd1\\x88\\xd0\\xb0' <===> Қазақша\n",
      "b'Krey\\xc3\\xb2l ayisyen' <===> Kreyòl ayisyen\n",
      "b'Latga\\xc4\\xbcu' <===> Latgaļu\n",
      "b'Latina' <===> Latina\n",
      "b'Latvie\\xc5\\xa1u' <===> Latviešu\n",
      "b'L\\xc3\\xabtzebuergesch' <===> Lëtzebuergesch\n",
      "b'Lietuvi\\xc5\\xb3' <===> Lietuvių\n",
      "b'Magyar' <===> Magyar\n",
      "b'\\xd0\\x9c\\xd0\\xb0\\xd0\\xba\\xd0\\xb5\\xd0\\xb4\\xd0\\xbe\\xd0\\xbd\\xd1\\x81\\xd0\\xba\\xd0\\xb8' <===> Македонски\n",
      "b'Malti' <===> Malti\n",
      "b'\\xe0\\xa4\\xae\\xe0\\xa4\\xb0\\xe0\\xa4\\xbe\\xe0\\xa4\\xa0\\xe0\\xa5\\x80' <===> मराठी\n",
      "b'\\xe1\\x83\\x9b\\xe1\\x83\\x90\\xe1\\x83\\xa0\\xe1\\x83\\x92\\xe1\\x83\\x90\\xe1\\x83\\x9a\\xe1\\x83\\xa3\\xe1\\x83\\xa0\\xe1\\x83\\x98' <===> მარგალური\n",
      "b'\\xd9\\x85\\xd8\\xa7\\xd8\\xb2\\xd9\\x90\\xd8\\xb1\\xd9\\x88\\xd9\\x86\\xdb\\x8c' <===> مازِرونی\n",
      "b'Bahasa Melayu' <===> Bahasa Melayu\n",
      "b'\\xd0\\x9c\\xd0\\xbe\\xd0\\xbd\\xd0\\xb3\\xd0\\xbe\\xd0\\xbb' <===> Монгол\n",
      "b'Nederlands' <===> Nederlands\n",
      "b'\\xe0\\xa4\\xa8\\xe0\\xa5\\x87\\xe0\\xa4\\xaa\\xe0\\xa4\\xbe\\xe0\\xa4\\xb2 \\xe0\\xa4\\xad\\xe0\\xa4\\xbe\\xe0\\xa4\\xb7\\xe0\\xa4\\xbe' <===> नेपाल भाषा\n",
      "b'\\xe6\\x97\\xa5\\xe6\\x9c\\xac\\xe8\\xaa\\x9e' <===> 日本語\n",
      "b'Norsk bokm\\xc3\\xa5l' <===> Norsk bokmål\n",
      "b'Nouormand' <===> Nouormand\n",
      "b'Occitan' <===> Occitan\n",
      "b'O\\xca\\xbbzbekcha/\\xd1\\x9e\\xd0\\xb7\\xd0\\xb1\\xd0\\xb5\\xd0\\xba\\xd1\\x87\\xd0\\xb0' <===> Oʻzbekcha/ўзбекча\n",
      "b'\\xe0\\xa8\\xaa\\xe0\\xa9\\xb0\\xe0\\xa8\\x9c\\xe0\\xa8\\xbe\\xe0\\xa8\\xac\\xe0\\xa9\\x80' <===> ਪੰਜਾਬੀ\n",
      "b'\\xd9\\xbe\\xd9\\x86\\xd8\\xac\\xd8\\xa7\\xd8\\xa8\\xdb\\x8c' <===> پنجابی\n",
      "b'\\xd9\\xbe\\xda\\x9a\\xd8\\xaa\\xd9\\x88' <===> پښتو\n",
      "b'Plattd\\xc3\\xbc\\xc3\\xbctsch' <===> Plattdüütsch\n",
      "b'Polski' <===> Polski\n",
      "b'Portugu\\xc3\\xaas' <===> Português\n",
      "b'Rom\\xc3\\xa2n\\xc4\\x83' <===> Română\n",
      "b'Romani' <===> Romani\n",
      "b'\\xd0\\xa0\\xd1\\x83\\xd1\\x81\\xd1\\x81\\xd0\\xba\\xd0\\xb8\\xd0\\xb9' <===> Русский\n",
      "b'Seeltersk' <===> Seeltersk\n",
      "b'Shqip' <===> Shqip\n",
      "b'Simple English' <===> Simple English\n",
      "b'Sloven\\xc4\\x8dina' <===> Slovenčina\n",
      "b'\\xda\\xa9\\xd9\\x88\\xd8\\xb1\\xd8\\xaf\\xdb\\x8c\\xdb\\x8c \\xd9\\x86\\xd8\\xa7\\xd9\\x88\\xdb\\x95\\xd9\\x86\\xd8\\xaf\\xdb\\x8c' <===> کوردیی ناوەندی\n",
      "b'\\xd0\\xa1\\xd1\\x80\\xd0\\xbf\\xd1\\x81\\xd0\\xba\\xd0\\xb8 / srpski' <===> Српски / srpski\n",
      "b'Suomi' <===> Suomi\n",
      "b'Svenska' <===> Svenska\n",
      "b'Tagalog' <===> Tagalog\n",
      "b'\\xe0\\xae\\xa4\\xe0\\xae\\xae\\xe0\\xae\\xbf\\xe0\\xae\\xb4\\xe0\\xaf\\x8d' <===> தமிழ்\n",
      "b'\\xe0\\xb8\\xa0\\xe0\\xb8\\xb2\\xe0\\xb8\\xa9\\xe0\\xb8\\xb2\\xe0\\xb9\\x84\\xe0\\xb8\\x97\\xe0\\xb8\\xa2' <===> ภาษาไทย\n",
      "b'Taqbaylit' <===> Taqbaylit\n",
      "b'\\xd0\\xa2\\xd0\\xb0\\xd1\\x82\\xd0\\xb0\\xd1\\x80\\xd1\\x87\\xd0\\xb0/tatar\\xc3\\xa7a' <===> Татарча/tatarça\n",
      "b'\\xe0\\xb0\\xa4\\xe0\\xb1\\x86\\xe0\\xb0\\xb2\\xe0\\xb1\\x81\\xe0\\xb0\\x97\\xe0\\xb1\\x81' <===> తెలుగు\n",
      "b'\\xd0\\xa2\\xd0\\xbe\\xd2\\xb7\\xd0\\xb8\\xd0\\xba\\xd3\\xa3' <===> Тоҷикӣ\n",
      "b'T\\xc3\\xbcrk\\xc3\\xa7e' <===> Türkçe\n",
      "b'\\xd0\\xa3\\xd0\\xba\\xd1\\x80\\xd0\\xb0\\xd1\\x97\\xd0\\xbd\\xd1\\x81\\xd1\\x8c\\xd0\\xba\\xd0\\xb0' <===> Українська\n",
      "b'\\xd8\\xa7\\xd8\\xb1\\xd8\\xaf\\xd9\\x88' <===> اردو\n",
      "b'Ti\\xe1\\xba\\xbfng Vi\\xe1\\xbb\\x87t' <===> Tiếng Việt\n",
      "b'V\\xc3\\xb5ro' <===> Võro\n",
      "b'\\xe6\\x96\\x87\\xe8\\xa8\\x80' <===> 文言\n",
      "b'\\xe5\\x90\\xb4\\xe8\\xaf\\xad' <===> 吴语\n",
      "b'\\xd7\\x99\\xd7\\x99\\xd6\\xb4\\xd7\\x93\\xd7\\x99\\xd7\\xa9' <===> ייִדיש\n",
      "b'\\xe4\\xb8\\xad\\xe6\\x96\\x87' <===> 中文\n"
     ]
    }
   ],
   "source": [
    "# exercise 23\n",
    "# import sys\n",
    "# from sys import argv\n",
    "# script,input_encoding,error = argv\n",
    "def main(language_file, encoding, errors):\n",
    "    line = language_file.readline()\n",
    "    if line:\n",
    "        print_line(line, encoding, errors)\n",
    "        #递归循环\n",
    "        return main(language_file, encoding, errors)\n",
    "\n",
    "def print_line(line, encoding, errors):\n",
    "    next_lang = line.strip()\n",
    "    #print(next_lang)\n",
    "    #strip():去除首尾空格\n",
    "    raw_bytes = next_lang.encode(encoding, errors=errors)\n",
    "    cooked_string = raw_bytes.decode(encoding, errors=errors)\n",
    "    print(raw_bytes, \"<===>\", cooked_string)\n",
    "\n",
    "languages = open(\"languages.txt\", encoding = \"utf-8\")\n",
    "main(languages,\"utf-8\", \"strict\")\n",
    "# main(languages,\"Big5\", \"ignore\")\n",
    "# main(languages,\"gb2312\", \"ignore\")"
   ]
  },
  {
   "cell_type": "code",
   "execution_count": 14,
   "metadata": {},
   "outputs": [
    {
     "data": {
      "text/plain": [
       "90"
      ]
     },
     "execution_count": 14,
     "metadata": {},
     "output_type": "execute_result"
    }
   ],
   "source": [
    "0b1011010"
   ]
  },
  {
   "cell_type": "code",
   "execution_count": 18,
   "metadata": {},
   "outputs": [
    {
     "data": {
      "text/plain": [
       "90"
      ]
     },
     "execution_count": 18,
     "metadata": {},
     "output_type": "execute_result"
    }
   ],
   "source": [
    "ord(\"Z\")"
   ]
  },
  {
   "cell_type": "code",
   "execution_count": 19,
   "metadata": {},
   "outputs": [
    {
     "data": {
      "text/plain": [
       "'Z'"
      ]
     },
     "execution_count": 19,
     "metadata": {},
     "output_type": "execute_result"
    }
   ],
   "source": [
    "chr(90)"
   ]
  },
  {
   "cell_type": "code",
   "execution_count": null,
   "metadata": {},
   "outputs": [],
   "source": []
  }
 ],
 "metadata": {
  "kernelspec": {
   "display_name": "Python 3",
   "language": "python",
   "name": "python3"
  },
  "language_info": {
   "codemirror_mode": {
    "name": "ipython",
    "version": 3
   },
   "file_extension": ".py",
   "mimetype": "text/x-python",
   "name": "python",
   "nbconvert_exporter": "python",
   "pygments_lexer": "ipython3",
   "version": "3.5.2"
  }
 },
 "nbformat": 4,
 "nbformat_minor": 2
}
