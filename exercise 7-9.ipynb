{
 "cells": [
  {
   "cell_type": "code",
   "execution_count": 3,
   "metadata": {},
   "outputs": [
    {
     "name": "stdout",
     "output_type": "stream",
     "text": [
      "mary had a little lamb.\n",
      "its fleece was white as snow\n",
      "and everywhere that mary went.\n",
      "..........\n",
      "cheese\n",
      "cheese burger\n"
     ]
    }
   ],
   "source": [
    "# exercise 7\n",
    "print('mary had a little lamb.')\n",
    "print('its fleece was white as {}'.format('snow'))\n",
    "print('and everywhere that mary went.')\n",
    "print('.' * 10)\n",
    "\n",
    "end1 = 'c'\n",
    "end2 = 'h'\n",
    "end3 = 'e'\n",
    "end4 = 'e'\n",
    "end5 = 's'\n",
    "end6 = 'e'\n",
    "end7 = 'b'\n",
    "end8 = 'u'\n",
    "end9 = 'r'\n",
    "end10 = 'g'\n",
    "end11 = 'e'\n",
    "end12 = 'r'\n",
    "\n",
    "print(end1 + end2 + end3 + end4 + end5 + end6)\n",
    "print(end1 + end2 + end3 + end4 + end5 + end6, end=' ')\n",
    "print(end7 + end8 + end9 + end10 + end11 + end12)"
   ]
  },
  {
   "cell_type": "code",
   "execution_count": 7,
   "metadata": {},
   "outputs": [
    {
     "name": "stdout",
     "output_type": "stream",
     "text": [
      "1 2 3 4\n",
      "one two three four\n",
      "True False True False\n",
      "{} {} {} {} {} {} {} {} {} {} {} {} {} {} {} {}\n",
      "i dont like  write a report ,so sad, but i have to do it\n"
     ]
    }
   ],
   "source": [
    "# exercise 8\n",
    "formatter ='{} {} {} {}'\n",
    "\n",
    "print(formatter.format(1,2,3,4))\n",
    "print(formatter.format('one','two','three','four'))\n",
    "print(formatter.format(True,False,True,False))\n",
    "print(formatter.format(formatter,formatter,formatter,formatter))\n",
    "print(formatter.format(\n",
    "    'i dont like ',\n",
    "    'write a report',\n",
    "    ',so sad,',\n",
    "    'but i have to do it'\n",
    "))"
   ]
  },
  {
   "cell_type": "code",
   "execution_count": 15,
   "metadata": {},
   "outputs": [
    {
     "name": "stdout",
     "output_type": "stream",
     "text": [
      "here are the days:  mon tue wed thu fri sat sun\n",
      "here are the months:  \n",
      "jan \n",
      "feb \n",
      "mar \n",
      "apr \n",
      "may \n",
      "jun \n",
      "jul \n",
      "aug\n",
      "\n",
      "there's something going on here.\n",
      "with the three double-quotes.\n",
      "i love you.\n",
      "\n",
      "mon\n",
      "tue\n",
      "wed\n",
      "thu\n",
      "fri\n",
      "sat\n",
      "sun\n",
      "\n"
     ]
    }
   ],
   "source": [
    "# exercise 9\n",
    "days = 'mon tue wed thu fri sat sun'\n",
    "months = '\\njan \\nfeb \\nmar \\napr \\nmay \\njun \\njul \\naug'\n",
    "\n",
    "# \\n 换行\n",
    "print('here are the days: ',days)\n",
    "print('here are the months: ',months)\n",
    "\n",
    "# ''' 每个均换行\n",
    "print('''\n",
    "there's something going on here.\n",
    "with the three double-quotes.\n",
    "i love you.\n",
    "''')\n",
    "print('''mon\n",
    "tue\n",
    "wed\n",
    "thu\n",
    "fri\n",
    "sat\n",
    "sun\n",
    "''')"
   ]
  },
  {
   "cell_type": "code",
   "execution_count": null,
   "metadata": {},
   "outputs": [],
   "source": []
  }
 ],
 "metadata": {
  "kernelspec": {
   "display_name": "Python 3",
   "language": "python",
   "name": "python3"
  },
  "language_info": {
   "codemirror_mode": {
    "name": "ipython",
    "version": 3
   },
   "file_extension": ".py",
   "mimetype": "text/x-python",
   "name": "python",
   "nbconvert_exporter": "python",
   "pygments_lexer": "ipython3",
   "version": "3.5.2"
  }
 },
 "nbformat": 4,
 "nbformat_minor": 2
}
