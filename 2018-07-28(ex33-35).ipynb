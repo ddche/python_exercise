{
 "cells": [
  {
   "cell_type": "code",
   "execution_count": 1,
   "metadata": {},
   "outputs": [
    {
     "name": "stdout",
     "output_type": "stream",
     "text": [
      "at the top i is 0\n",
      "numbers now: [0]\n",
      "at the bottom i is 1\n",
      "at the top i is 1\n",
      "numbers now: [0, 1]\n",
      "at the bottom i is 2\n",
      "at the top i is 2\n",
      "numbers now: [0, 1, 2]\n",
      "at the bottom i is 3\n",
      "at the top i is 3\n",
      "numbers now: [0, 1, 2, 3]\n",
      "at the bottom i is 4\n",
      "at the top i is 4\n",
      "numbers now: [0, 1, 2, 3, 4]\n",
      "at the bottom i is 5\n",
      "at the top i is 5\n",
      "numbers now: [0, 1, 2, 3, 4, 5]\n",
      "at the bottom i is 6\n",
      "the numbers: \n",
      "0\n",
      "1\n",
      "2\n",
      "3\n",
      "4\n",
      "5\n"
     ]
    }
   ],
   "source": [
    "# exercise 33\n",
    "i = 0\n",
    "numbers = []\n",
    "\n",
    "while i < 6:\n",
    "    print(\"at the top i is {}\".format(i))\n",
    "    numbers.append(i)\n",
    "    \n",
    "    i = i + 1\n",
    "    print(\"numbers now: {}\".format(numbers))\n",
    "    print(\"at the bottom i is {}\".format(i))\n",
    "print(\"the numbers: \")\n",
    "for num in numbers:\n",
    "    print(num)"
   ]
  },
  {
   "cell_type": "code",
   "execution_count": 4,
   "metadata": {},
   "outputs": [
    {
     "name": "stdout",
     "output_type": "stream",
     "text": [
      "you are in a dark room.\n",
      "there is a door to your right and left.\n",
      "which one do you take?\n",
      "> left\n",
      "there is a bear here.\n",
      "the bear has a bunch of honey.\n",
      "the fat bear is in front of another door.\n",
      "how are you going to move the bear?\n",
      "> taunt\n",
      "i got no idea what that means.\n",
      "> taunt the bear\n",
      "i got no idea what that means.\n",
      "> taunt bear ooo\n",
      "the bear has sleeped.\n",
      "you can go through it now.\n",
      "> open door\n",
      "this room is full of gold. how much do you take?\n",
      "> 30\n",
      "nice, you're not greedy, you win.\n"
     ]
    },
    {
     "ename": "SystemExit",
     "evalue": "0",
     "output_type": "error",
     "traceback": [
      "An exception has occurred, use %tb to see the full traceback.\n",
      "\u001b[1;31mSystemExit\u001b[0m\u001b[1;31m:\u001b[0m 0\n"
     ]
    },
    {
     "name": "stderr",
     "output_type": "stream",
     "text": [
      "c:\\users\\lenovo\\appdata\\local\\programs\\python\\python35\\lib\\site-packages\\IPython\\core\\interactiveshell.py:2870: UserWarning: To exit: use 'exit', 'quit', or Ctrl-D.\n",
      "  warn(\"To exit: use 'exit', 'quit', or Ctrl-D.\", stacklevel=1)\n"
     ]
    }
   ],
   "source": [
    "# exercise 35\n",
    "from sys import exit\n",
    "\n",
    "def start():\n",
    "    print(\"you are in a dark room.\")\n",
    "    print(\"there is a door to your right and left.\")\n",
    "    print(\"which one do you take?\")\n",
    "    \n",
    "    choice = input(\"> \")\n",
    "    if choice == \"left\":\n",
    "        bear_room()\n",
    "    elif choice == \"right\":\n",
    "        cthulhu_room()\n",
    "    else:\n",
    "        dead(\"you stumble around the room until you starve.\")\n",
    "def dead(why):\n",
    "    print(why, \"good job!\")\n",
    "    exit(0)\n",
    "def bear_room():\n",
    "    print(\"there is a bear here.\")\n",
    "    print(\"the bear has a bunch of honey.\")\n",
    "    print(\"the fat bear is in front of another door.\")\n",
    "    print(\"how are you going to move the bear?\")\n",
    "    bear_moved = False\n",
    "    \n",
    "    while True:\n",
    "        choice = input(\"> \")\n",
    "        \n",
    "        if choice == \"take honey\":\n",
    "            dead(\"the bear looks at you then slaps your face off.\")\n",
    "        elif \"taunt bear\" in choice and not bear_moved:\n",
    "            print(\"the bear has sleeped.\")\n",
    "            print(\"you can go through it now.\")\n",
    "            bear_moved = True\n",
    "        elif choice == \"taunt bear\" and bear_moved:\n",
    "            dead(\"the bear gets pissed off and chews your leg off.\")\n",
    "        elif choice == \"open door\" and bear_moved:\n",
    "            gold_room()\n",
    "        else:\n",
    "            print(\"i got no idea what that means.\")\n",
    "def cthulhu_room():\n",
    "    print(\"here you see the great evil cthulhu.\")\n",
    "    print(\"he, it, whatever stars at you and you go insane.\")\n",
    "    print(\"do you flee for your life or eat your head?\")\n",
    "            \n",
    "    choice = input(\"> \")\n",
    "            \n",
    "    if \"flee\" in choice:\n",
    "        start()\n",
    "    elif \"head\" in choice:\n",
    "        dead(\"well that was tasty!\")\n",
    "    else:\n",
    "        cthulhu_room()\n",
    "\n",
    "def gold_room():\n",
    "    print(\"this room is full of gold. how much do you take?\")\n",
    "    \n",
    "    choice = input(\"> \")\n",
    "    if \"0\" in choice or \"1\" in choice:\n",
    "        how_much = int(choice)\n",
    "    else:\n",
    "        dead(\"man, learn to type a number.\")\n",
    "    if how_much < 50:\n",
    "        print(\"nice, you're not greedy, you win.\")\n",
    "        exit(0)\n",
    "    else:\n",
    "        dead(\"you greedy bastard!\")\n",
    "start()\n",
    "    "
   ]
  },
  {
   "cell_type": "code",
   "execution_count": null,
   "metadata": {},
   "outputs": [],
   "source": []
  }
 ],
 "metadata": {
  "kernelspec": {
   "display_name": "Python 3",
   "language": "python",
   "name": "python3"
  },
  "language_info": {
   "codemirror_mode": {
    "name": "ipython",
    "version": 3
   },
   "file_extension": ".py",
   "mimetype": "text/x-python",
   "name": "python",
   "nbconvert_exporter": "python",
   "pygments_lexer": "ipython3",
   "version": "3.5.2"
  }
 },
 "nbformat": 4,
 "nbformat_minor": 2
}
