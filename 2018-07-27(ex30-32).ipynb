{
 "cells": [
  {
   "cell_type": "code",
   "execution_count": 1,
   "metadata": {},
   "outputs": [
    {
     "name": "stdout",
     "output_type": "stream",
     "text": [
      "we should take the cars.\n",
      "maybe we could take the cars.\n",
      "alright, let's just take the trucks.\n"
     ]
    }
   ],
   "source": [
    "# exercise 30\n",
    "people = 30 \n",
    "cars = 40\n",
    "trucks = 15\n",
    "\n",
    "if cars > people:\n",
    "    print(\"we should take the cars.\")\n",
    "elif cars < people:\n",
    "    print(\"we should not take the cars.\")\n",
    "else:\n",
    "    print(\"we can't decide.\")\n",
    "\n",
    "if trucks > cars:\n",
    "    print(\"that's too many trucks.\")\n",
    "elif trucks < cars:\n",
    "    print(\"maybe we could take the cars.\")\n",
    "else:\n",
    "    print(\"alright, let's just take the trucks.\")\n",
    "\n",
    "if people > trucks:\n",
    "    print(\"alright, let's just take the trucks.\")\n",
    "else:\n",
    "    print(\"fine, let's stay home then.\")"
   ]
  },
  {
   "cell_type": "code",
   "execution_count": 3,
   "metadata": {},
   "outputs": [
    {
     "name": "stdout",
     "output_type": "stream",
     "text": [
      "you enter a dark room with two doors.\n",
      "do you go through door #1 or door #2?\n",
      "> 1\n",
      "there's a giant bear here eating a cheese cake.\n",
      "what do you do?\n",
      "1. take the cake.\n",
      "2. scream at the bear.\n",
      "> 1\n",
      "the bear eats your face off. good job!\n"
     ]
    }
   ],
   "source": [
    "# exercise 31\n",
    "print(\"\"\"you enter a dark room with two doors.\n",
    "do you go through door #1 or door #2?\"\"\")\n",
    "\n",
    "door = input(\"> \")\n",
    "\n",
    "if door == \"1\":\n",
    "    print(\"there's a giant bear here eating a cheese cake.\")\n",
    "    print(\"what do you do?\")\n",
    "    print(\"1. take the cake.\")\n",
    "    print(\"2. scream at the bear.\")\n",
    "    \n",
    "    bear = input(\"> \")\n",
    "    if bear == \"1\":\n",
    "        print(\"the bear eats your face off. good job!\")\n",
    "    elif bear == \"2\":\n",
    "        print(\"the bear eats your legs off. good job!\")\n",
    "    else:\n",
    "        print(\"well, doing {} is probably better.\".format(bear))\n",
    "        print(\"bear runs away.\")\n",
    "elif door == \"2\":\n",
    "    print(\"You stare into the endless abyss at Cthulhu's retina.\")\n",
    "    print(\"1. Blueberries.\")  \n",
    "    print(\"2. Yellow jacket clothespins.\") \n",
    "    print(\"3. Understanding revolvers yelling melodies.\") \n",
    "    \n",
    "    insanity = input(\"> \") \n",
    "    \n",
    "    if insanity == \"1\" or insanity == \"2\": \n",
    "        print(\"Your body survives powered by a mind of jello.\")\n",
    "        print(\"good job!\")\n",
    "    else:\n",
    "        print(\"the insanity rots your eyes into a pool of muck.\")\n",
    "        print(\"good job!\")\n",
    "\n",
    "else:\n",
    "    print(\"You stumble around and fall on a knife and die. Good job!\")"
   ]
  },
  {
   "cell_type": "code",
   "execution_count": 5,
   "metadata": {},
   "outputs": [
    {
     "name": "stdout",
     "output_type": "stream",
     "text": [
      "this is count 1\n",
      "this is count 2\n",
      "this is count 3\n",
      "this is count 4\n",
      "this is count 5\n",
      "a fruit of type : apple\n",
      "a fruit of type : oranges\n",
      "a fruit of type : pears\n",
      "a fruit of type : apricots\n",
      "i got 1\n",
      "i got pennies\n",
      "i got 2\n",
      "i got dimes\n",
      "i got 3\n",
      "i got quarters\n",
      "adding 0 to the list.\n",
      "adding 1 to the list.\n",
      "adding 2 to the list.\n",
      "adding 3 to the list.\n",
      "adding 4 to the list.\n",
      "adding 5 to the list.\n",
      "element was: 0\n",
      "element was: 1\n",
      "element was: 2\n",
      "element was: 3\n",
      "element was: 4\n",
      "element was: 5\n"
     ]
    }
   ],
   "source": [
    "# exercise 32\n",
    "the_count = [1,2,3,4,5]\n",
    "fruits = ['apple','oranges','pears','apricots']\n",
    "change = [1, 'pennies', 2, 'dimes', 3, 'quarters']\n",
    "\n",
    "for number in the_count:\n",
    "    print(\"this is count {}\".format(number))\n",
    "for fruit in fruits:\n",
    "    print(\"a fruit of type : {}\".format(fruit))\n",
    "for i in change:\n",
    "    print(\"i got {}\".format(i))\n",
    "elements = []\n",
    "\n",
    "for i in range(0,6):\n",
    "    print(\"adding {} to the list.\".format(i))\n",
    "    elements.append(i)\n",
    "for i in elements:\n",
    "    print(\"element was: {}\".format(i))"
   ]
  },
  {
   "cell_type": "code",
   "execution_count": null,
   "metadata": {},
   "outputs": [],
   "source": []
  }
 ],
 "metadata": {
  "kernelspec": {
   "display_name": "Python 3",
   "language": "python",
   "name": "python3"
  },
  "language_info": {
   "codemirror_mode": {
    "name": "ipython",
    "version": 3
   },
   "file_extension": ".py",
   "mimetype": "text/x-python",
   "name": "python",
   "nbconvert_exporter": "python",
   "pygments_lexer": "ipython3",
   "version": "3.5.2"
  }
 },
 "nbformat": 4,
 "nbformat_minor": 2
}
