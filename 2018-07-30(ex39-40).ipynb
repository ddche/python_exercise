{
 "cells": [
  {
   "cell_type": "code",
   "execution_count": 6,
   "metadata": {},
   "outputs": [
    {
     "name": "stdout",
     "output_type": "stream",
     "text": [
      "cdd\n",
      "24\n",
      "158\n",
      "SZ\n",
      "debris wow\n",
      "{'city': 'SZ', 2: 'debris', 'name': 'cdd', 1: 'wow', 'height': 158, 'age': 24}\n"
     ]
    },
    {
     "data": {
      "text/plain": [
       "{'age': 24, 'height': 158, 'name': 'cdd'}"
      ]
     },
     "execution_count": 6,
     "metadata": {},
     "output_type": "execute_result"
    }
   ],
   "source": [
    "# exercise 39\n",
    "stuff = {'name':\"cdd\",'age':24,'height':158}\n",
    "print(stuff[\"name\"])\n",
    "print(stuff[\"age\"])\n",
    "print(stuff[\"height\"])\n",
    "\n",
    "stuff['city'] = \"SZ\"\n",
    "print(stuff['city'])\n",
    "\n",
    "stuff[1] = \"wow\"\n",
    "stuff[2] = \"debris\"\n",
    "print(stuff[2],stuff[1])\n",
    "print(stuff)\n",
    "\n",
    "del stuff['city']\n",
    "del stuff[1]\n",
    "del stuff[2]\n",
    "stuff"
   ]
  },
  {
   "cell_type": "code",
   "execution_count": 14,
   "metadata": {},
   "outputs": [
    {
     "name": "stdout",
     "output_type": "stream",
     "text": [
      "----------\n",
      "finit state has:  beijing\n",
      "Euler1 state has:  shanghai\n",
      "----------\n",
      "Euler1 is means explicit.\n",
      "stability is means 稳定性.\n",
      "consistency is means 一致性.\n",
      "Euler2 is means implicit.\n",
      "finit is means 有限的.\n",
      "convergence is means 收敛性.\n",
      "----------\n",
      "gz is named guangzhou.\n",
      "sz is named shenzhen.\n",
      "bj is named beijing.\n",
      "hz is named hangzhou.\n",
      "sh is named shanghai.\n",
      "----------\n",
      "sorry, no taxas.\n",
      "----------\n"
     ]
    }
   ],
   "source": [
    "states = {\n",
    "    \"finit\":\"有限的\",\n",
    "    \"Euler1\":\"explicit\",\n",
    "    \"Euler2\":\"implicit\",\n",
    "    \"convergence\":\"收敛性\",\n",
    "    \"consistency\":\"一致性\",\n",
    "    \"stability\":\"稳定性\"\n",
    "}\n",
    "\n",
    "cities = {\n",
    "    \"bj\":\"beijing\",\n",
    "    \"sh\":\"shanghai\",\n",
    "    \"sz\":\"shenzhen\"\n",
    "}\n",
    "\n",
    "cities[\"gz\"] = \"guangzhou\"\n",
    "cities[\"hz\"] = \"hangzhou\"\n",
    "\n",
    "print(\"-\"*10)\n",
    "print(\"finit state has: \",cities[\"bj\"])\n",
    "print(\"Euler1 state has: \",cities[\"sh\"])\n",
    "\n",
    "print(\"-\"*10)\n",
    "for state, means in states.items():\n",
    "    print(\"{} is means {}.\".format(state,means))\n",
    "\n",
    "print(\"-\"*10)\n",
    "for city, names in cities.items():\n",
    "    print(\"{} is named {}.\".format(city,names))\n",
    "\n",
    "print(\"-\"*10)\n",
    "state = states.get(\"texas\")\n",
    "if not state:\n",
    "    print(\"sorry, no taxas.\")\n",
    "\n",
    "print(\"-\"*10)\n",
    "state = states.get(\"finit\")\n",
    "if not state:\n",
    "    print(\"sorry, no finit.\")\n",
    "    "
   ]
  },
  {
   "cell_type": "code",
   "execution_count": 15,
   "metadata": {},
   "outputs": [
    {
     "name": "stdout",
     "output_type": "stream",
     "text": [
      "i am apples！\n"
     ]
    }
   ],
   "source": [
    "# exercise 40\n",
    "mystuff = {\"apple\": \"i am apples！\"}\n",
    "print(mystuff[\"apple\"])"
   ]
  },
  {
   "cell_type": "code",
   "execution_count": 19,
   "metadata": {},
   "outputs": [
    {
     "name": "stdout",
     "output_type": "stream",
     "text": [
      "I AM APPLES!\n"
     ]
    },
    {
     "ename": "AttributeError",
     "evalue": "module 'mystuff' has no attribute 'tangerine'",
     "output_type": "error",
     "traceback": [
      "\u001b[1;31m---------------------------------------------------------------------------\u001b[0m",
      "\u001b[1;31mAttributeError\u001b[0m                            Traceback (most recent call last)",
      "\u001b[1;32m<ipython-input-19-2446e51abfeb>\u001b[0m in \u001b[0;36m<module>\u001b[1;34m()\u001b[0m\n\u001b[0;32m      1\u001b[0m \u001b[1;32mimport\u001b[0m \u001b[0mmystuff\u001b[0m\u001b[1;33m\u001b[0m\u001b[0m\n\u001b[0;32m      2\u001b[0m \u001b[0mmystuff\u001b[0m\u001b[1;33m.\u001b[0m\u001b[0mapple\u001b[0m\u001b[1;33m(\u001b[0m\u001b[1;33m)\u001b[0m\u001b[1;33m\u001b[0m\u001b[0m\n\u001b[1;32m----> 3\u001b[1;33m \u001b[0mprint\u001b[0m\u001b[1;33m(\u001b[0m\u001b[0mmystuff\u001b[0m\u001b[1;33m.\u001b[0m\u001b[0mtangerine\u001b[0m\u001b[1;33m)\u001b[0m\u001b[1;33m\u001b[0m\u001b[0m\n\u001b[0m",
      "\u001b[1;31mAttributeError\u001b[0m: module 'mystuff' has no attribute 'tangerine'"
     ]
    }
   ],
   "source": [
    "import mystuff\n",
    "mystuff.apple()\n",
    "print(mystuff.tangerine)"
   ]
  },
  {
   "cell_type": "code",
   "execution_count": 20,
   "metadata": {},
   "outputs": [],
   "source": [
    "class MyStuff(object):\n",
    "    \n",
    "    def __init__(self):\n",
    "        self.tangerine = \"And now a thousand years between\"\n",
    "    \n",
    "    def apple(self):\n",
    "        print(\"I AM CLASSY APPLES!\")\n",
    "    "
   ]
  },
  {
   "cell_type": "code",
   "execution_count": 24,
   "metadata": {},
   "outputs": [
    {
     "ename": "AttributeError",
     "evalue": "'dict' object has no attribute 'apple'",
     "output_type": "error",
     "traceback": [
      "\u001b[1;31m---------------------------------------------------------------------------\u001b[0m",
      "\u001b[1;31mAttributeError\u001b[0m                            Traceback (most recent call last)",
      "\u001b[1;32m<ipython-input-24-9a41228a6d64>\u001b[0m in \u001b[0;36m<module>\u001b[1;34m()\u001b[0m\n\u001b[0;32m      1\u001b[0m \u001b[0mmystuff\u001b[0m \u001b[1;33m=\u001b[0m \u001b[1;33m{\u001b[0m\u001b[1;34m\"apple\"\u001b[0m\u001b[1;33m:\u001b[0m \u001b[1;34m\"i am apples！\"\u001b[0m\u001b[1;33m}\u001b[0m\u001b[1;33m\u001b[0m\u001b[0m\n\u001b[0;32m      2\u001b[0m \u001b[0mmystuff\u001b[0m\u001b[1;33m[\u001b[0m\u001b[1;34m\"apple\"\u001b[0m\u001b[1;33m]\u001b[0m\u001b[1;33m\u001b[0m\u001b[0m\n\u001b[1;32m----> 3\u001b[1;33m \u001b[0mmystuff\u001b[0m\u001b[1;33m.\u001b[0m\u001b[0mapple\u001b[0m\u001b[1;33m(\u001b[0m\u001b[1;33m)\u001b[0m\u001b[1;33m\u001b[0m\u001b[0m\n\u001b[0m\u001b[0;32m      4\u001b[0m \u001b[0mprint\u001b[0m\u001b[1;33m(\u001b[0m\u001b[0mmystuff\u001b[0m\u001b[1;33m.\u001b[0m\u001b[0mtangerine\u001b[0m\u001b[1;33m)\u001b[0m\u001b[1;33m\u001b[0m\u001b[0m\n\u001b[0;32m      5\u001b[0m \u001b[0mthing\u001b[0m \u001b[1;33m=\u001b[0m \u001b[0mMystuff\u001b[0m\u001b[1;33m(\u001b[0m\u001b[1;33m)\u001b[0m\u001b[1;33m\u001b[0m\u001b[0m\n",
      "\u001b[1;31mAttributeError\u001b[0m: 'dict' object has no attribute 'apple'"
     ]
    }
   ],
   "source": [
    "# dict style\n",
    "mystuff['apples']\n",
    "\n",
    "# module style\n",
    "mystuff.apples()\n",
    "print(mystuff.tangerine)\n",
    "\n",
    "# class style\n",
    "thing = MyStuff()\n",
    "thing.apples()\n",
    "print(thing.tangerine)"
   ]
  },
  {
   "cell_type": "code",
   "execution_count": 25,
   "metadata": {},
   "outputs": [
    {
     "name": "stdout",
     "output_type": "stream",
     "text": [
      "Happy birthday to you\n",
      "I don't want to get sued\n",
      "So I'll stop right there\n",
      "They rally around tha family\n",
      "With pockets full of shells\n"
     ]
    }
   ],
   "source": [
    "class Song(object):\n",
    "    def __init__(self, lyrics):\n",
    "        self.lyrics = lyrics\n",
    "    def sing_me_a_song(self):\n",
    "        for line in self.lyrics:\n",
    "            print(line)\n",
    "\n",
    "\n",
    "happy_bday = Song([\"Happy birthday to you\",\n",
    "\"I don't want to get sued\",\n",
    "\"So I'll stop right there\"])\n",
    "\n",
    "bulls_on_parade = Song([\"They rally around tha family\",\n",
    "\"With pockets full of shells\"])\n",
    "\n",
    "happy_bday.sing_me_a_song()\n",
    "\n",
    "bulls_on_parade.sing_me_a_song()"
   ]
  },
  {
   "cell_type": "code",
   "execution_count": null,
   "metadata": {},
   "outputs": [],
   "source": []
  }
 ],
 "metadata": {
  "kernelspec": {
   "display_name": "Python 3",
   "language": "python",
   "name": "python3"
  },
  "language_info": {
   "codemirror_mode": {
    "name": "ipython",
    "version": 3
   },
   "file_extension": ".py",
   "mimetype": "text/x-python",
   "name": "python",
   "nbconvert_exporter": "python",
   "pygments_lexer": "ipython3",
   "version": "3.5.2"
  }
 },
 "nbformat": 4,
 "nbformat_minor": 2
}
