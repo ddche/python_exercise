{
 "cells": [
  {
   "cell_type": "code",
   "execution_count": 16,
   "metadata": {},
   "outputs": [],
   "source": [
    "# exercise 4\n",
    "cars = 100\n",
    "space_in_a_car = 4.0\n",
    "drivers = 30\n",
    "passengers = 90\n",
    "cars_not_driven = cars - drivers\n",
    "cars_driven = drivers\n",
    "carpool_capacity = cars_driven * space_in_a_car\n",
    "average_passengers_per_car = passengers / cars_driven"
   ]
  },
  {
   "cell_type": "code",
   "execution_count": 17,
   "metadata": {},
   "outputs": [
    {
     "name": "stdout",
     "output_type": "stream",
     "text": [
      "There are 100 cars available.\n",
      "There are only 30 drivers available.\n",
      "There will be 70 empty cars today.\n",
      "We can transport 120.0 people today.\n",
      "We have 90 to carpool today.\n",
      "We need to put about 3.0 in each car.\n"
     ]
    }
   ],
   "source": [
    "# exercise 4\n",
    "print(\"There are\", cars, \"cars available.\")\n",
    "print(\"There are only\", drivers, \"drivers available.\")\n",
    "print(\"There will be\", cars_not_driven, \"empty cars today.\")\n",
    "print(\"We can transport\", carpool_capacity, \"people today.\")\n",
    "print(\"We have\", passengers, \"to carpool today.\")\n",
    "print(\"We need to put about\", average_passengers_per_car,\"in each car.\")"
   ]
  },
  {
   "cell_type": "code",
   "execution_count": 14,
   "metadata": {},
   "outputs": [],
   "source": [
    "# exercise 5\n",
    "my_name = 'cdd '\n",
    "my_age = 24\n",
    "my_height = 159\n",
    "my_weight = 52\n",
    "my_hair = 'brown'"
   ]
  },
  {
   "cell_type": "code",
   "execution_count": 15,
   "metadata": {
    "scrolled": true
   },
   "outputs": [
    {
     "name": "stdout",
     "output_type": "stream",
     "text": [
      "let's talk about cdd .\n",
      "she's 24 years old.\n",
      "she is 159 inches tall.\n",
      "she is 52 pounds heavy.\n"
     ]
    }
   ],
   "source": [
    "# exercise 5\n",
    "print(\"let's talk about {}.\".format(my_name) )\n",
    "print(\"she's {} years old.\".format(my_age))\n",
    "print(\"she is {} inches tall.\".format(my_height))\n",
    "print(\"she is {} pounds heavy.\".format(my_weight))"
   ]
  },
  {
   "cell_type": "code",
   "execution_count": 31,
   "metadata": {},
   "outputs": [
    {
     "name": "stdout",
     "output_type": "stream",
     "text": [
      "there are 10 types of people.\n",
      "those who know binary and those who don't.\n",
      "i said: there are 10 types of people.\n",
      "i also said: \"those who know binary and those who don't.\"\n",
      "isn't that joke so funny? True\n",
      "this is the left side of...a string with a right side.\n"
     ]
    }
   ],
   "source": [
    "# exercise 6\n",
    "# 插入1个字符串\n",
    "types_of_people = 10\n",
    "x = 'there are {} types of people.'.format(types_of_people)\n",
    "# 插入多个字符串\n",
    "binary = 'binary'\n",
    "do_not = \"don't\"\n",
    "y = 'those who know {} and those who {}.'.format(binary,do_not)\n",
    "\n",
    "print(x)\n",
    "print(y)\n",
    "# 字符串嵌套\n",
    "print(\"i said: {}\".format(x))\n",
    "print('i also said: \"{}\"'.format(y))\n",
    "\n",
    "hilarious = True\n",
    "joke_evaluation = \"isn't that joke so funny? {}\"\n",
    "print(joke_evaluation.format(hilarious))\n",
    "# 字符串相连接\n",
    "w = \"this is the left side of...\"\n",
    "e = \"a string with a right side.\"\n",
    "print(w + e)"
   ]
  },
  {
   "cell_type": "code",
   "execution_count": null,
   "metadata": {},
   "outputs": [],
   "source": [
    "# exercise 7\n"
   ]
  }
 ],
 "metadata": {
  "kernelspec": {
   "display_name": "Python 3",
   "language": "python",
   "name": "python3"
  },
  "language_info": {
   "codemirror_mode": {
    "name": "ipython",
    "version": 3
   },
   "file_extension": ".py",
   "mimetype": "text/x-python",
   "name": "python",
   "nbconvert_exporter": "python",
   "pygments_lexer": "ipython3",
   "version": "3.5.2"
  }
 },
 "nbformat": 4,
 "nbformat_minor": 2
}
