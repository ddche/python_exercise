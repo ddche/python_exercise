{
 "cells": [
  {
   "cell_type": "code",
   "execution_count": 5,
   "metadata": {},
   "outputs": [
    {
     "name": "stdout",
     "output_type": "stream",
     "text": [
      "False\n",
      "poverty scarcity dearth paucity\n",
      "purism surrealism baroque\n",
      "commodity privatize deprivation\n",
      "\n",
      "poverty scarcity dearth paucity\n",
      "purism surrealism baroque\n",
      "commodity privatize deprivation\n",
      "cheese\n",
      "cracker\n",
      "crackers\n",
      "make useful stuff\n",
      "\n"
     ]
    }
   ],
   "source": [
    "# exercise 37\n",
    "print(1==1 and 2==1)\n",
    "\n",
    "# with...as...\n",
    "# f = open('cdd.txt')\n",
    "# try:\n",
    "#     f.write('123')\n",
    "# finally:\n",
    "#     f.close()\n",
    "\n",
    "with open(\"cdd.txt\") as f1, open(\"cdd1.txt\") as f2:\n",
    "    print(f1.read())\n",
    "    print(f2.read())"
   ]
  },
  {
   "cell_type": "code",
   "execution_count": 11,
   "metadata": {},
   "outputs": [],
   "source": [
    "# assert\n",
    "\n",
    "# if not condition:\n",
    "#     raise AssertionError()\n",
    "assert 1==1"
   ]
  },
  {
   "cell_type": "code",
   "execution_count": 12,
   "metadata": {},
   "outputs": [
    {
     "ename": "AssertionError",
     "evalue": "",
     "output_type": "error",
     "traceback": [
      "\u001b[1;31m---------------------------------------------------------------------------\u001b[0m",
      "\u001b[1;31mAssertionError\u001b[0m                            Traceback (most recent call last)",
      "\u001b[1;32m<ipython-input-12-ab8cbedd7149>\u001b[0m in \u001b[0;36m<module>\u001b[1;34m()\u001b[0m\n\u001b[1;32m----> 1\u001b[1;33m \u001b[1;32massert\u001b[0m \u001b[1;36m1\u001b[0m\u001b[1;33m==\u001b[0m\u001b[1;36m0\u001b[0m\u001b[1;33m\u001b[0m\u001b[0m\n\u001b[0m",
      "\u001b[1;31mAssertionError\u001b[0m: "
     ]
    }
   ],
   "source": [
    "assert 1==0"
   ]
  },
  {
   "cell_type": "code",
   "execution_count": 13,
   "metadata": {},
   "outputs": [],
   "source": [
    "lists = [1,2,3,4,5,6]\n",
    "assert len(lists) >= 5"
   ]
  },
  {
   "cell_type": "code",
   "execution_count": 16,
   "metadata": {},
   "outputs": [
    {
     "name": "stdout",
     "output_type": "stream",
     "text": [
      "1\n"
     ]
    }
   ],
   "source": [
    "# break\n",
    "i = 1\n",
    "while i <= 7:\n",
    "    print(i)\n",
    "    i += 1\n",
    "    \n",
    "    if i%2 == 0:\n",
    "        break"
   ]
  },
  {
   "cell_type": "code",
   "execution_count": 46,
   "metadata": {},
   "outputs": [
    {
     "name": "stdout",
     "output_type": "stream",
     "text": [
      "iphonex\n"
     ]
    }
   ],
   "source": [
    "# class定义以一个类，即定义一个定制工厂函数\n",
    "class AddBook(object):\n",
    "    def __init__(self, name = \"cdd\", phone = \"iphone\"):\n",
    "        self.name = name\n",
    "        self.phone = phone\n",
    "\n",
    "    def get_phone(self):\n",
    "        return self.phone\n",
    "    \n",
    "class EmplEmail(AddBook):\n",
    "    def __init__(self, nm, ph, email):\n",
    "        # AddBook.__init__(self, nm, ph) # 调用父类方法一\n",
    "        super(EmplEmail, self).__init__(nm, ph) # 调用父类方法二\n",
    "        self.email = email\n",
    "\n",
    "    def get_email(self):\n",
    "        return self.email\n",
    "\n",
    "if __name__ == '__main__':\n",
    "    debris = AddBook(\"cxx\",\"iphonex\")\n",
    "    phone = debris.get_phone()\n",
    "    print(phone)"
   ]
  },
  {
   "cell_type": "code",
   "execution_count": 52,
   "metadata": {},
   "outputs": [
    {
     "name": "stdout",
     "output_type": "stream",
     "text": [
      "215.0\n",
      "430.0\n",
      "222.0\n",
      "666.0\n"
     ]
    }
   ],
   "source": [
    "class Hotel(object):\n",
    "    \"\"\"docstring for Hotel\"\"\"\n",
    "    def __init__(self, room, cf=1.0, br=15):\n",
    "        self.room = room\n",
    "        self.cf = cf\n",
    "        self.br = br\n",
    "\n",
    "    def cacl_all(self, days=1):\n",
    "        return (self.room * self.cf + self.br) * days\n",
    "\n",
    "if __name__ == '__main__':\n",
    "    stdroom = Hotel(200)\n",
    "    big_room = Hotel(230, 0.9)\n",
    "    print (stdroom.cacl_all())\n",
    "    print (stdroom.cacl_all(2))\n",
    "    print (big_room.cacl_all())\n",
    "    print (big_room.cacl_all(3))"
   ]
  },
  {
   "cell_type": "code",
   "execution_count": 32,
   "metadata": {},
   "outputs": [
    {
     "name": "stdout",
     "output_type": "stream",
     "text": [
      "Add water: 10\n",
      "Add scour: 2\n",
      "Start wash...\n"
     ]
    }
   ],
   "source": [
    "class Washer:\n",
    "    \n",
    "    def __init__(self):\n",
    "        self.water = 0\n",
    "        self.scour = 0 \n",
    "\n",
    "    def add_water(self,water):\n",
    "        print('Add water:',water)\n",
    "        self.water = water\n",
    "\n",
    "    def add_scour(self,scour):\n",
    "        self.scour = scour\n",
    "        print('Add scour:',self.scour)\n",
    "\n",
    "    def start_wash(self):\n",
    "        print('Start wash...') \n",
    "\n",
    "if __name__ == '__main__':\n",
    "    w = Washer()\n",
    "    w.add_water(10)\n",
    "    w.add_scour(2)\n",
    "    w.start_wash()"
   ]
  },
  {
   "cell_type": "code",
   "execution_count": 54,
   "metadata": {},
   "outputs": [
    {
     "name": "stdout",
     "output_type": "stream",
     "text": [
      "1\n"
     ]
    }
   ],
   "source": [
    "class riot:\n",
    "    def __init__(self,invade = 0, wreck = 1):\n",
    "        self.invade = invade\n",
    "        self.wreck = wreck\n",
    "        \n",
    "    def conclusion(self):\n",
    "        collision = self.wreck\n",
    "        print(collision)\n",
    "        \n",
    "if __name__ == '__main__':\n",
    "    w = riot()\n",
    "    w.conclusion()\n",
    "# riot-暴乱骚动；invade-侵入侵略；wreck-破坏拆毁;collision-碰撞冲突。"
   ]
  },
  {
   "cell_type": "code",
   "execution_count": 58,
   "metadata": {},
   "outputs": [
    {
     "name": "stdout",
     "output_type": "stream",
     "text": [
      "i: 0\n",
      "j: [1]\n",
      "i: 1\n",
      "i: 2\n",
      "j: [1, 3]\n",
      "i: 3\n",
      "i: 4\n",
      "j: [1, 3, 5]\n",
      "i: 5\n"
     ]
    }
   ],
   "source": [
    "# continue\n",
    "i = 0\n",
    "j = []\n",
    "while i<= 5:\n",
    "    print(\"i:\",i)\n",
    "    i += 1\n",
    "    \n",
    "    if i%2 ==0:\n",
    "        continue\n",
    "    \n",
    "    j.append(i)\n",
    "    print(\"j:\",j) "
   ]
  },
  {
   "cell_type": "code",
   "execution_count": 70,
   "metadata": {},
   "outputs": [
    {
     "name": "stdout",
     "output_type": "stream",
     "text": [
      "1\n",
      "[2, 3, 4, 5]\n",
      "1\n"
     ]
    }
   ],
   "source": [
    "# del:delete from dictionary\n",
    "# delete 删除的是变量，而不是数据\n",
    "if __name__ == '__main__':\n",
    "    a=1       # 对象 1 被 变量a引用，对象1的引用计数器为1\n",
    "    b=a       # 对象1 被变量b引用，对象1的引用计数器加1\n",
    "    c=a       #1对象1 被变量c引用，对象1的引用计数器加1\n",
    "    del a     #删除变量a，解除a对1的引用\n",
    "    del b     #删除变量b，解除b对1的引用\n",
    "    print(c)  #最终变量c仍然引用1\n",
    "    \n",
    "if __name__=='__main__':\n",
    "    list = [1,2,3,4,5]  #列表本身不包含数据1,2,3,4,5，而是包含变量：li[0] li[1] li[2] li[3] li[4] \n",
    "    first = list[0]     #拷贝列表，也不会有数据对象的复制，而是创建新的变量引用\n",
    "    del list[0]\n",
    "    print(list)      #输出[2, 3, 4, 5]\n",
    "    print(first)   #输出 1"
   ]
  },
  {
   "cell_type": "code",
   "execution_count": 75,
   "metadata": {},
   "outputs": [
    {
     "ename": "SyntaxError",
     "evalue": "invalid syntax (<ipython-input-75-23fd17afa8fa>, line 9)",
     "output_type": "error",
     "traceback": [
      "\u001b[1;36m  File \u001b[1;32m\"<ipython-input-75-23fd17afa8fa>\"\u001b[1;36m, line \u001b[1;32m9\u001b[0m\n\u001b[1;33m    except (IOError ,ZeroDivisionError),x:\u001b[0m\n\u001b[1;37m                                       ^\u001b[0m\n\u001b[1;31mSyntaxError\u001b[0m\u001b[1;31m:\u001b[0m invalid syntax\n"
     ]
    }
   ],
   "source": [
    "# try except\n",
    "# try:Try this block, and if exception, go to except.\n",
    "# except:If an exception happens, do this.\n",
    "a = 0\n",
    "b = 10\n",
    "try:\n",
    "    c = b / a\n",
    "    print(c)\n",
    "except (IOError ,ZeroDivisionError),x:\n",
    "    print x\n",
    "#     print(e.message)\n",
    "print(\"done\")"
   ]
  },
  {
   "cell_type": "code",
   "execution_count": 101,
   "metadata": {},
   "outputs": [
    {
     "name": "stdout",
     "output_type": "stream",
     "text": [
      "Hello World\n",
      "runoob.com\n",
      "60\n",
      "60\n",
      "60\n",
      "----------------------\n",
      "20\n",
      "----------------------\n",
      "60\n",
      "33\n",
      "34\n"
     ]
    }
   ],
   "source": [
    "# exec:Run a string as Python.\n",
    "# 单行语句字符串\n",
    "exec('print(\"Hello World\")')\n",
    "exec(\"print('runoob.com')\")\n",
    "\n",
    "# 多行语句字符串\n",
    "ex =\"\"\"\n",
    "z = 30\n",
    "x = 10\n",
    "y = 20\n",
    "sum = x + y + z\n",
    "print(sum)\n",
    "\"\"\"\n",
    "\n",
    "def func1():\n",
    "    y = 20\n",
    "    exec(ex)\n",
    "    exec(ex, {'x': 1, 'y': 2})\n",
    "    exec(ex, {'x': 1, 'y': 2}, {'y': 3, 'z': 4})\n",
    "    \n",
    "func1()\n",
    "print(\"----------------------\")\n",
    "\n",
    "fx =\"\"\"\n",
    "print(\"20\")\n",
    "\"\"\"\n",
    "exec(fx)\n",
    "print(\"----------------------\")\n",
    "\n",
    "x = 10\n",
    "expr = \"\"\"\n",
    "z = 30\n",
    "sum = x + y + z\n",
    "print(sum)\n",
    "\"\"\"\n",
    "def func():\n",
    "    y = 20\n",
    "    exec(expr)\n",
    "    exec(expr, {'x': 1, 'y': 2})\n",
    "    exec(expr, {'x': 1, 'y': 2}, {'y': 3, 'z': 4})\n",
    "    \n",
    "func()"
   ]
  },
  {
   "cell_type": "code",
   "execution_count": 62,
   "metadata": {},
   "outputs": [],
   "source": [
    "# try finally\n",
    "# finally:Exceptions or not, finally do this no matter what.\n"
   ]
  },
  {
   "cell_type": "code",
   "execution_count": 120,
   "metadata": {},
   "outputs": [
    {
     "name": "stdout",
     "output_type": "stream",
     "text": [
      "当前字母: P\n",
      "当前字母: y\n",
      "当前字母: t\n",
      "这是 pass 块\n",
      "当前字母: h\n",
      "当前字母: o\n",
      "当前字母: n\n",
      "Good bye!\n"
     ]
    }
   ],
   "source": [
    "# pass:This block is emptyPython \n",
    "# pass是空语句，是为了保持程序结构的完整性。\n",
    "# pass 不做任何事情，一般用做占位语句。\n",
    "\n",
    "# 输出 Python 的每个字母\n",
    "for letter in 'Python':\n",
    "    if letter == 'h':\n",
    "        pass\n",
    "        print('这是 pass 块')\n",
    "    print('当前字母:',letter)\n",
    "\n",
    "print (\"Good bye!\")"
   ]
  },
  {
   "cell_type": "code",
   "execution_count": 115,
   "metadata": {},
   "outputs": [
    {
     "name": "stdout",
     "output_type": "stream",
     "text": [
      "10\n",
      "10\n",
      "9\n",
      "39\n"
     ]
    }
   ],
   "source": [
    "# lambda:Create a short anonymous function\n",
    "def sum(x,y):\n",
    "    return x+y\n",
    "print(sum(4,6))\n",
    "\n",
    "p = lambda x,y:x+y\n",
    "print(p(4,6))\n",
    "\n",
    "a = lambda x:x*x\n",
    "print(a(3))\n",
    "\n",
    "b = lambda x,y,z:(x+8)*y-z\n",
    "print(b(3,4,5))"
   ]
  },
  {
   "cell_type": "code",
   "execution_count": 65,
   "metadata": {},
   "outputs": [],
   "source": [
    "# raise:Raise an exception when things go wrong.\n"
   ]
  },
  {
   "cell_type": "code",
   "execution_count": 121,
   "metadata": {},
   "outputs": [
    {
     "name": "stdout",
     "output_type": "stream",
     "text": [
      "[0, 1, 4]\n",
      "0\n",
      "1\n",
      "4\n"
     ]
    }
   ],
   "source": [
    "# yield:Pause here and return to caller.\n",
    "mylist = [x*x for x in range(3)]\n",
    "print(mylist)\n",
    "\n",
    "def creat():\n",
    "    myli = range(3)\n",
    "    for i in myli:\n",
    "        yield i*i\n",
    "\n",
    "mygenerator = creat()\n",
    "for i in mygenerator:\n",
    "    print(i)\n"
   ]
  },
  {
   "cell_type": "code",
   "execution_count": 136,
   "metadata": {},
   "outputs": [
    {
     "name": "stdout",
     "output_type": "stream",
     "text": [
      "funB\n",
      "funA\n",
      "---------------------------\n"
     ]
    }
   ],
   "source": [
    "# @  当解释器读到@的这样的修饰符之后，会先解析@后的内容，\n",
    "# 直接就把@下一行的函数或者类作为@后边的函数的参数，\n",
    "# 然后将返回值赋值给下一行修饰的函数对象。 \n",
    "def funA(a):\n",
    "    print('funA')\n",
    "\n",
    "def funB(b):\n",
    "    print('funB')\n",
    "\n",
    "@funA\n",
    "@funB\n",
    "\n",
    "def funC():\n",
    "    print('funC')\n",
    "# funA(funB(fun(C)))\n",
    "print(\"---------------------------\")\n"
   ]
  },
  {
   "cell_type": "code",
   "execution_count": 142,
   "metadata": {},
   "outputs": [
    {
     "name": "stdout",
     "output_type": "stream",
     "text": [
      "wait there are not 10 things in that list. let's fix that.\n",
      "there are stuff now: ['apples', 'oranges', 'crows', 'telephone', 'light', 'sugar', 'days', 'night', 'song', 'frisbee', 'corn', 'banana', 'girl', 'boy']\n",
      "let's do some things with stuff.\n",
      "oranges\n",
      "boy\n",
      "boy\n",
      "apples oranges crows telephone light sugar days night song frisbee corn banana girl\n",
      "telephone#light\n"
     ]
    }
   ],
   "source": [
    "# exercise 38\n",
    "ten_things = \"apples oranges crows telephone light sugar\"\n",
    "\n",
    "print(\"wait there are not 10 things in that list. let's fix that.\")\n",
    "\n",
    "stuff = ten_things.split(' ')\n",
    "more_stuff = [\"days\",\"night\",\"song\",\"frisbee\",\"corn\",\"banana\",\"girl\",\"boy\"]\n",
    "\n",
    "for i in more_stuff:\n",
    "    stuff.append(i)\n",
    "#     print(i)\n",
    "\n",
    "print(\"there are stuff now:\",stuff)\n",
    "\n",
    "print(\"let's do some things with stuff.\")\n",
    "\n",
    "print(stuff[1])\n",
    "print(stuff[-1])\n",
    "print(stuff.pop())\n",
    "# pop() 函数用于移除列表中的一个元素（默认最后一个元素），并且返回该元素的值。\n",
    "print(\" \".join(stuff))\n",
    "print(\"#\".join(stuff[3:5]))"
   ]
  },
  {
   "cell_type": "code",
   "execution_count": null,
   "metadata": {},
   "outputs": [],
   "source": []
  }
 ],
 "metadata": {
  "kernelspec": {
   "display_name": "Python 3",
   "language": "python",
   "name": "python3"
  },
  "language_info": {
   "codemirror_mode": {
    "name": "ipython",
    "version": 3
   },
   "file_extension": ".py",
   "mimetype": "text/x-python",
   "name": "python",
   "nbconvert_exporter": "python",
   "pygments_lexer": "ipython3",
   "version": "3.5.2"
  }
 },
 "nbformat": 4,
 "nbformat_minor": 2
}
